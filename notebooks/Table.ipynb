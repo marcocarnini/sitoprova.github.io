{
 "cells": [
  {
   "cell_type": "code",
   "execution_count": 1,
   "id": "af614e23",
   "metadata": {
    "ExecuteTime": {
     "end_time": "2023-10-07T10:07:57.826376Z",
     "start_time": "2023-10-07T10:07:57.173353Z"
    }
   },
   "outputs": [
    {
     "data": {
      "text/html": [
       "<div>\n",
       "<style scoped>\n",
       "    .dataframe tbody tr th:only-of-type {\n",
       "        vertical-align: middle;\n",
       "    }\n",
       "\n",
       "    .dataframe tbody tr th {\n",
       "        vertical-align: top;\n",
       "    }\n",
       "\n",
       "    .dataframe thead th {\n",
       "        text-align: right;\n",
       "    }\n",
       "</style>\n",
       "<table border=\"1\" class=\"dataframe\">\n",
       "  <thead>\n",
       "    <tr style=\"text-align: right;\">\n",
       "      <th></th>\n",
       "      <th>A</th>\n",
       "      <th>B</th>\n",
       "      <th>C</th>\n",
       "    </tr>\n",
       "  </thead>\n",
       "  <tbody>\n",
       "    <tr>\n",
       "      <th>0</th>\n",
       "      <td>1</td>\n",
       "      <td>9</td>\n",
       "      <td>ABC</td>\n",
       "    </tr>\n",
       "    <tr>\n",
       "      <th>1</th>\n",
       "      <td>5</td>\n",
       "      <td>4</td>\n",
       "      <td>BAC</td>\n",
       "    </tr>\n",
       "    <tr>\n",
       "      <th>2</th>\n",
       "      <td>7</td>\n",
       "      <td>5</td>\n",
       "      <td>CAB</td>\n",
       "    </tr>\n",
       "    <tr>\n",
       "      <th>3</th>\n",
       "      <td>3</td>\n",
       "      <td>6</td>\n",
       "      <td>ABC</td>\n",
       "    </tr>\n",
       "    <tr>\n",
       "      <th>4</th>\n",
       "      <td>4</td>\n",
       "      <td>1</td>\n",
       "      <td>BAC</td>\n",
       "    </tr>\n",
       "    <tr>\n",
       "      <th>5</th>\n",
       "      <td>0</td>\n",
       "      <td>0</td>\n",
       "      <td>CAB</td>\n",
       "    </tr>\n",
       "  </tbody>\n",
       "</table>\n",
       "</div>"
      ],
      "text/plain": [
       "   A  B    C\n",
       "0  1  9  ABC\n",
       "1  5  4  BAC\n",
       "2  7  5  CAB\n",
       "3  3  6  ABC\n",
       "4  4  1  BAC\n",
       "5  0  0  CAB"
      ]
     },
     "execution_count": 1,
     "metadata": {},
     "output_type": "execute_result"
    }
   ],
   "source": [
    "import pandas as pd\n",
    "\n",
    "\n",
    "df = pd.DataFrame(\n",
    "    {\n",
    "        \"A\": [1, 5, 7, 3, 4, 0],\n",
    "        \"B\": [9, 4, 5, 6, 1, 0],\n",
    "        \"C\": [\"ABC\", \"BAC\", \"CAB\", \"ABC\", \"BAC\", \"CAB\"],\n",
    "    }\n",
    ")\n",
    "df"
   ]
  },
  {
   "cell_type": "code",
   "execution_count": 2,
   "id": "ee5ae0fd",
   "metadata": {
    "ExecuteTime": {
     "end_time": "2023-10-07T10:07:57.844577Z",
     "start_time": "2023-10-07T10:07:57.830012Z"
    }
   },
   "outputs": [
    {
     "name": "stdout",
     "output_type": "stream",
     "text": [
      "|   A |   B | C   |\n",
      "|----:|----:|:----|\n",
      "|   1 |   9 | ABC |\n",
      "|   5 |   4 | BAC |\n",
      "|   7 |   5 | CAB |\n",
      "|   3 |   6 | ABC |\n",
      "|   4 |   1 | BAC |\n",
      "|   0 |   0 | CAB |\n"
     ]
    }
   ],
   "source": [
    "print(df.to_markdown(index=False))"
   ]
  },
  {
   "cell_type": "code",
   "execution_count": 3,
   "id": "7075b80d",
   "metadata": {
    "ExecuteTime": {
     "end_time": "2023-10-07T10:07:57.862752Z",
     "start_time": "2023-10-07T10:07:57.849867Z"
    }
   },
   "outputs": [
    {
     "data": {
      "text/markdown": [
       "|   A |   B | C   |\n",
       "|----:|----:|:----|\n",
       "|   1 |   9 | ABC |\n",
       "|   5 |   4 | BAC |\n",
       "|   7 |   5 | CAB |\n",
       "|   3 |   6 | ABC |\n",
       "|   4 |   1 | BAC |\n",
       "|   0 |   0 | CAB |"
      ],
      "text/plain": [
       "<IPython.core.display.Markdown object>"
      ]
     },
     "metadata": {},
     "output_type": "display_data"
    }
   ],
   "source": [
    "from IPython.display import display\n",
    "from IPython.display import Markdown\n",
    "\n",
    "\n",
    "display(Markdown(df.to_markdown(index=False)))"
   ]
  },
  {
   "cell_type": "code",
   "execution_count": 14,
   "id": "51c0c526",
   "metadata": {
    "ExecuteTime": {
     "end_time": "2023-10-07T10:53:33.165677Z",
     "start_time": "2023-10-07T10:53:33.157535Z"
    }
   },
   "outputs": [
    {
     "data": {
      "text/markdown": [
       "|   A |   B | C   |\n",
       "|----:|----:|:----|\n",
       "|   1 |   9 | ABC |\n",
       "|   5 |   4 | BAC |\n",
       "|   7 |   5 | CAB |\n",
       "|   3 |   6 | ABC |\n",
       "|   4 |   1 | BAC |\n",
       "|   0 |   0 | CAB |"
      ],
      "text/plain": [
       "<IPython.core.display.Markdown object>"
      ]
     },
     "metadata": {},
     "output_type": "display_data"
    }
   ],
   "source": [
    "def dm(df: pd.DataFrame, nrows=None):\n",
    "    display(Markdown(df.head(nrows).to_markdown(index=False)))\n",
    "    \n",
    "    \n",
    "dm(df)"
   ]
  },
  {
   "cell_type": "code",
   "execution_count": 16,
   "id": "5af9bb8a",
   "metadata": {
    "ExecuteTime": {
     "end_time": "2023-10-07T10:53:51.814357Z",
     "start_time": "2023-10-07T10:53:51.804044Z"
    }
   },
   "outputs": [
    {
     "data": {
      "text/markdown": [
       "|   A |   B | C   |\n",
       "|----:|----:|:----|\n",
       "|   1 |   9 | ABC |\n",
       "|   5 |   4 | BAC |"
      ],
      "text/plain": [
       "<IPython.core.display.Markdown object>"
      ]
     },
     "metadata": {},
     "output_type": "display_data"
    }
   ],
   "source": [
    "dm(df, 2)"
   ]
  },
  {
   "cell_type": "code",
   "execution_count": null,
   "id": "0d8d993e",
   "metadata": {},
   "outputs": [],
   "source": []
  }
 ],
 "metadata": {
  "kernelspec": {
   "display_name": "Python 3 (ipykernel)",
   "language": "python",
   "name": "python3"
  },
  "language_info": {
   "codemirror_mode": {
    "name": "ipython",
    "version": 3
   },
   "file_extension": ".py",
   "mimetype": "text/x-python",
   "name": "python",
   "nbconvert_exporter": "python",
   "pygments_lexer": "ipython3",
   "version": "3.11.5"
  },
  "toc": {
   "base_numbering": 1,
   "nav_menu": {},
   "number_sections": true,
   "sideBar": true,
   "skip_h1_title": false,
   "title_cell": "Table of Contents",
   "title_sidebar": "Contents",
   "toc_cell": false,
   "toc_position": {},
   "toc_section_display": true,
   "toc_window_display": false
  }
 },
 "nbformat": 4,
 "nbformat_minor": 5
}
